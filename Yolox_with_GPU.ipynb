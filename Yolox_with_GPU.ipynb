{
  "nbformat": 4,
  "nbformat_minor": 0,
  "metadata": {
    "colab": {
      "provenance": []
    },
    "kernelspec": {
      "name": "python3",
      "display_name": "Python 3"
    },
    "language_info": {
      "name": "python"
    },
    "accelerator": "GPU",
    "gpuClass": "standard"
  },
  "cells": [
    {
      "cell_type": "code",
      "source": [
        "import os\n",
        "from google.colab import drive\n",
        "drive.mount('/content/gdrive')"
      ],
      "metadata": {
        "id": "QAzNXxmcz67I"
      },
      "execution_count": null,
      "outputs": []
    },
    {
      "cell_type": "code",
      "source": [
        "!nvidia-smi"
      ],
      "metadata": {
        "id": "4PegK-kx2pP3"
      },
      "execution_count": null,
      "outputs": []
    },
    {
      "cell_type": "code",
      "source": [
        "!git clone https://github.com/augmentedstartups/YOLOX.git"
      ],
      "metadata": {
        "id": "JJOu0Y5gfjbZ"
      },
      "execution_count": null,
      "outputs": []
    },
    {
      "cell_type": "code",
      "source": [
        "%cd YOLOX\n",
        "\n",
        "!pip3 install -U pip"
      ],
      "metadata": {
        "id": "2MHfbaj1gCwy"
      },
      "execution_count": null,
      "outputs": []
    },
    {
      "cell_type": "code",
      "source": [
        "!pip3 install -qr requirements.txt"
      ],
      "metadata": {
        "id": "WCDsE16PgYZf"
      },
      "execution_count": null,
      "outputs": []
    },
    {
      "cell_type": "code",
      "source": [
        "!pip3 install 'git+https://github.com/cocodataset/cocoapi.git#subdirectory=PythonAPI'"
      ],
      "metadata": {
        "id": "Lt9YadB0hQDa"
      },
      "execution_count": null,
      "outputs": []
    },
    {
      "cell_type": "code",
      "source": [
        "!pip3 install -v -e ."
      ],
      "metadata": {
        "id": "52I2OUpKhr21"
      },
      "execution_count": null,
      "outputs": []
    },
    {
      "cell_type": "code",
      "source": [
        "import os\n",
        "if not os.path.exists(\"weights\"):\n",
        "  os.mkdir(\"weights\")"
      ],
      "metadata": {
        "id": "8FHIDvxUiCHJ"
      },
      "execution_count": 8,
      "outputs": []
    },
    {
      "cell_type": "code",
      "source": [
        "!wget -nc https://github.com/Megvii-BaseDetection/YOLOX/releases/download/0.1.1rc0/yolox_tiny.pth -P /content/YOLOX/weights"
      ],
      "metadata": {
        "id": "7lHOfuZEjJYI"
      },
      "execution_count": null,
      "outputs": []
    },
    {
      "cell_type": "code",
      "source": [
        "!python tools/demo.py video -n yolox_tiny -c /content/YOLOX/weights/yolox_tiny.pth --path /content/YOLOX/ucak1.mp4 --conf 0.50 --nms 0.45 --tsize 640 --save_result --device gpu"
      ],
      "metadata": {
        "id": "nZ6wjqwRlBp3"
      },
      "execution_count": null,
      "outputs": []
    }
  ]
}